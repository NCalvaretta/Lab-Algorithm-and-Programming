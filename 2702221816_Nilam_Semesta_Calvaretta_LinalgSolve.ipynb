{
  "nbformat": 4,
  "nbformat_minor": 0,
  "metadata": {
    "colab": {
      "provenance": [],
      "authorship_tag": "ABX9TyNsYaI/Q41eXx1NDhPxVsUa",
      "include_colab_link": true
    },
    "kernelspec": {
      "name": "python3",
      "display_name": "Python 3"
    },
    "language_info": {
      "name": "python"
    }
  },
  "cells": [
    {
      "cell_type": "markdown",
      "metadata": {
        "id": "view-in-github",
        "colab_type": "text"
      },
      "source": [
        "<a href=\"https://colab.research.google.com/github/NCalvaretta/Lab-Algorithm-and-Programming/blob/main/2702221816_Nilam_Semesta_Calvaretta_LinalgSolve.ipynb\" target=\"_parent\"><img src=\"https://colab.research.google.com/assets/colab-badge.svg\" alt=\"Open In Colab\"/></a>"
      ]
    },
    {
      "cell_type": "code",
      "execution_count": 2,
      "metadata": {
        "colab": {
          "base_uri": "https://localhost:8080/"
        },
        "id": "7mBewRWAbkkL",
        "outputId": "379d3724-b019-4ff6-86d2-a774f0512698"
      },
      "outputs": [
        {
          "output_type": "stream",
          "name": "stdout",
          "text": [
            "[ 2.20833333 -2.58333333 -0.18333333]\n"
          ]
        }
      ],
      "source": [
        "import numpy as np\n",
        "A = np.array([[4, 3, -5],\n",
        "             [-2, -4, 5],\n",
        "             [8, 8, 0]])\n",
        "y = np.array([2, 5, -3])\n",
        "\n",
        "x = np.linalg.solve(A, y)\n",
        "print(x)"
      ]
    },
    {
      "cell_type": "markdown",
      "source": [
        "Matrix Inversion Approach"
      ],
      "metadata": {
        "id": "dszryp8wdNL4"
      }
    },
    {
      "cell_type": "code",
      "source": [
        "A_inv = np.linalg.inv(A)\n",
        "\n",
        "x = np.dot(A_inv, y)\n",
        "print(x)"
      ],
      "metadata": {
        "colab": {
          "base_uri": "https://localhost:8080/"
        },
        "id": "N8K2kT8EdF45",
        "outputId": "817f1dba-4e1f-4e16-98b3-d87012231123"
      },
      "execution_count": 3,
      "outputs": [
        {
          "output_type": "stream",
          "name": "stdout",
          "text": [
            "[ 2.20833333 -2.58333333 -0.18333333]\n"
          ]
        }
      ]
    }
  ]
}