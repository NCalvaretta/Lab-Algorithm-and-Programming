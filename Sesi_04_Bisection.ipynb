{
  "nbformat": 4,
  "nbformat_minor": 0,
  "metadata": {
    "colab": {
      "provenance": [],
      "authorship_tag": "ABX9TyPtMopop3qAKB533BHvz4PZ",
      "include_colab_link": true
    },
    "kernelspec": {
      "name": "python3",
      "display_name": "Python 3"
    },
    "language_info": {
      "name": "python"
    }
  },
  "cells": [
    {
      "cell_type": "markdown",
      "metadata": {
        "id": "view-in-github",
        "colab_type": "text"
      },
      "source": [
        "<a href=\"https://colab.research.google.com/github/NCalvaretta/Lab-Algorithm-and-Programming/blob/main/Sesi_04_Bisection.ipynb\" target=\"_parent\"><img src=\"https://colab.research.google.com/assets/colab-badge.svg\" alt=\"Open In Colab\"/></a>"
      ]
    },
    {
      "cell_type": "code",
      "execution_count": 3,
      "metadata": {
        "id": "4E6b9-X2s3XE"
      },
      "outputs": [],
      "source": [
        "import numpy as np\n",
        "import math\n",
        "\n",
        "def my_bisection(f, a, b, tol):\n",
        "    # approcximates a root, R, of f bounded\n",
        "    # by a and b to within tolerance\n",
        "    # | f(m) | < tol with m the midpoint\n",
        "    # between a and b Recursive implementation\n",
        "\n",
        "    # check if a and b bound a root\n",
        "    if np.sign(f(a)) == np.sign(f(b)):\n",
        "        raise Exception(\n",
        "            \"The scalers a and b do not bound a root\")\n",
        "\n",
        "    # get midpoint\n",
        "    m = (a + b)/2\n",
        "\n",
        "    if np.abs(f(m)) < tol:\n",
        "        # stopping condition, report m as root\n",
        "        return m\n",
        "    elif np.sign(f(a)) == np.sign(f(m)):\n",
        "        # case where m is an improvement on a.\n",
        "        # Make recursive call with a = m\n",
        "        return my_bisection(f, m, b, tol)\n",
        "    elif np.sign(f(b)) == np.sign (f(m)):\n",
        "        # case where m is an improvement on b.\n",
        "        # Make recursive call with b = m\n",
        "        return my_bisection(f, a, m, tol)"
      ]
    },
    {
      "cell_type": "code",
      "source": [
        "f = lambda x: x**2 - 2\n",
        "r1 = my_bisection(f, 0, 2, 0.1)\n",
        "print (\"r1 =\", r1)\n",
        "r01 = my_bisection(f, 0, 2, 0.01)\n",
        "print(\"r01 =\", r01)\n",
        "\n",
        "print (\"f(1) =\", f(r1))\n",
        "print (\"f(01) =\", f(r01))"
      ],
      "metadata": {
        "colab": {
          "base_uri": "https://localhost:8080/"
        },
        "id": "X5BJBSpTyyvr",
        "outputId": "c336900e-c7e5-4f25-ec2b-4d99f3cdfd2d"
      },
      "execution_count": null,
      "outputs": [
        {
          "output_type": "stream",
          "name": "stdout",
          "text": [
            "r1 = 1.4375\n",
            "r01 = 1.4140625\n",
            "f(1) = 0.06640625\n",
            "f(01) = -0.00042724609375\n"
          ]
        }
      ]
    },
    {
      "cell_type": "markdown",
      "source": [
        "Quiz 1 Bisection\n",
        "\n",
        "f(x) = x^3 -3x^2 + 2x\n",
        "[a, b] = [1,2]\n",
        "tol = 0.01"
      ],
      "metadata": {
        "id": "pk7bipKm6fQK"
      }
    },
    {
      "cell_type": "code",
      "source": [
        "f = lambda x: x**3 - 3*x**2 + 2*x\n",
        "r1 = my_bisection(f, 1, 2, 0.01)\n",
        "print (\"r1 =\", r1)\n",
        "\n",
        "print (\"f(1) =\", f(r1))"
      ],
      "metadata": {
        "id": "pMgeTZdX7rVj"
      },
      "execution_count": null,
      "outputs": []
    },
    {
      "cell_type": "markdown",
      "source": [
        "Quiz 2 Bisection\n",
        "\n",
        "f(x) = sin x - x\n",
        "[a,b] = [0,1]\n",
        "tol = 0.001"
      ],
      "metadata": {
        "id": "e7G9uLlbAbID"
      }
    },
    {
      "cell_type": "code",
      "source": [
        "f = lambda x: math.sin(x) - x\n",
        "\n",
        "r1= my_bisection(f, 0, 1, 0.001)\n",
        "print(\"r1=\", r1)\n",
        "\n",
        "print(\"f(r1) =\", f(r1))"
      ],
      "metadata": {
        "id": "0_t4rOOaA4Lu",
        "colab": {
          "base_uri": "https://localhost:8080/"
        },
        "outputId": "9466c0ba-f819-4a3f-c856-33aa8986a0c2"
      },
      "execution_count": 4,
      "outputs": [
        {
          "output_type": "stream",
          "name": "stdout",
          "text": [
            "r1= 0.125\n",
            "f(r1) = -0.0003252666147723071\n"
          ]
        }
      ]
    }
  ]
}